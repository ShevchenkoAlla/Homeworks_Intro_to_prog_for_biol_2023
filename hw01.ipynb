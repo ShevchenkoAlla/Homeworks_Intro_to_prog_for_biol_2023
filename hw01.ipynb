{
 "cells": [
  {
   "cell_type": "markdown",
   "id": "06be43d2",
   "metadata": {},
   "source": [
    "# Homework 1. Variables, basic data types\n",
    "\n",
    "31.10.2022\n",
    "\n",
    "Deadline: Mon, 7.11.2022"
   ]
  },
  {
   "cell_type": "markdown",
   "id": "3c0916ae-a323-4fa3-88d7-823a2071882f",
   "metadata": {},
   "source": [
    "## How to work with assignment notebook\n",
    "\n",
    "Assignment notebooks have integrated self-check system. Import it by running the cell below. Folder check and the assignment notebook should be located in the same folder, otherwise, import will fail."
   ]
  },
  {
   "cell_type": "code",
   "execution_count": 4,
   "id": "715203be-7fd2-4319-86d4-c8bcd7e2dc24",
   "metadata": {
    "deletable": false,
    "editable": false,
    "nbgrader": {
     "cell_type": "code",
     "checksum": "9d15a158ca4245c26db24ae2e0f8d488",
     "grade": false,
     "grade_id": "cell-afb75796d7c7f729",
     "locked": true,
     "schema_version": 3,
     "solution": false,
     "task": false
    },
    "tags": []
   },
   "outputs": [],
   "source": [
    "# run this cell before proceeding with assignment tasks\n",
    "from check.hw01 import check"
   ]
  },
  {
   "cell_type": "markdown",
   "id": "34f0563e-ac36-4f34-8b27-4e744bc9fde4",
   "metadata": {},
   "source": [
    "Write you code in the cell with `### YOUR CODE HERE ###` below the comment line. Make sure you use the variable `example_input` (if input is applicable) in your solution. \n",
    "\n",
    "Check your solution by executing the cell with `check('task_n')`. **Important:** save the notebook before running the check cell (Ctrl+S or File-Save), otherwise, checking will not work properly.\n",
    "\n",
    "<img src=\"check/save_notebook.png\" width=\"300px\">\n",
    "\n",
    "The task is considered to be accomplished successfully if it passes **all tests**. There are no partial grades if some tests pass and some fail.\n",
    "\n",
    "You have unlimited attempts to write your solution and check it. You can try your own inputs by editing the cell with `example_input`.\n",
    "\n",
    "After you finished all the tasks and checked them, save the notebook and submit it to Canvas."
   ]
  },
  {
   "cell_type": "markdown",
   "id": "3111d8fe",
   "metadata": {},
   "source": [
    "## Task 1.\n",
    "\n",
    "Write a program that prints a phrase: \\\n",
    "*DNA makes RNA, and RNA makes protein*"
   ]
  },
  {
   "cell_type": "code",
   "execution_count": 2,
   "id": "bc8878e3",
   "metadata": {
    "deletable": false,
    "nbgrader": {
     "cell_type": "code",
     "checksum": "7a38909fee922076b61dc11be7cebc5e",
     "grade": true,
     "grade_id": "task_1",
     "locked": false,
     "points": 0,
     "schema_version": 3,
     "solution": true,
     "task": false
    },
    "tags": []
   },
   "outputs": [
    {
     "name": "stdout",
     "output_type": "stream",
     "text": [
      "DNA makes RNA, and RNA makes protein\n"
     ]
    }
   ],
   "source": [
    "# YOUR CODE HERE\n",
    "print('DNA makes RNA, and RNA makes protein')"
   ]
  },
  {
   "cell_type": "code",
   "execution_count": 3,
   "id": "2acf1e82-861a-4fc4-b646-c5b7f9bf52ab",
   "metadata": {
    "deletable": false,
    "editable": false,
    "nbgrader": {
     "cell_type": "code",
     "checksum": "32d53dac5b81f950ac9fc31621e32d1a",
     "grade": false,
     "grade_id": "c1",
     "locked": true,
     "schema_version": 3,
     "solution": false,
     "task": false
    },
    "tags": []
   },
   "outputs": [
    {
     "name": "stdout",
     "output_type": "stream",
     "text": [
      "Test 1/1 passed.\n"
     ]
    }
   ],
   "source": [
    "# Save the notebook before executing this cell\n",
    "check('task_1')"
   ]
  },
  {
   "cell_type": "markdown",
   "id": "1cce05d0",
   "metadata": {},
   "source": [
    "## Task 2.\n",
    "\n",
    "Write a program that prints a phrase: \\\n",
    "*\"Sgt. Pepper's Lonely Hearts Club Band\" is the eighth studio album by the English rock band \"the Beatles\"*"
   ]
  },
  {
   "cell_type": "code",
   "execution_count": 5,
   "id": "9e7b8a46",
   "metadata": {
    "deletable": false,
    "nbgrader": {
     "cell_type": "code",
     "checksum": "117c40da3066fa89060a7c444aa059a2",
     "grade": true,
     "grade_id": "task_2",
     "locked": false,
     "points": 0,
     "schema_version": 3,
     "solution": true,
     "task": false
    },
    "tags": []
   },
   "outputs": [
    {
     "name": "stdout",
     "output_type": "stream",
     "text": [
      "\"Sgt. Pepper's Lonely Hearts Club Band\" is the eighth studio album by the English rock band \"the Beatles\"\n"
     ]
    }
   ],
   "source": [
    "# YOUR CODE HERE\n",
    "print('\"Sgt. Pepper\\'s Lonely Hearts Club Band\" is the eighth studio album by the English rock band \"the Beatles\"')"
   ]
  },
  {
   "cell_type": "code",
   "execution_count": 6,
   "id": "a2fbc5c7-a742-49c9-96a9-cf8573967ad0",
   "metadata": {
    "deletable": false,
    "editable": false,
    "nbgrader": {
     "cell_type": "code",
     "checksum": "97cc2374fa51e99cf51999e658c44239",
     "grade": false,
     "grade_id": "c2",
     "locked": true,
     "schema_version": 3,
     "solution": false,
     "task": false
    },
    "tags": []
   },
   "outputs": [
    {
     "name": "stdout",
     "output_type": "stream",
     "text": [
      "Test 1/1 passed.\n"
     ]
    }
   ],
   "source": [
    "# Save the notebook before executing this cell\n",
    "check('task_2')"
   ]
  },
  {
   "cell_type": "markdown",
   "id": "8ee09e7d",
   "metadata": {},
   "source": [
    "## Task 3.\n",
    "\n",
    "Write a program that takes the age and prints how old is a person.\n",
    "\n",
    "Example input: 21\\\n",
    "Corresponding output: I am 21 years old!"
   ]
  },
  {
   "cell_type": "code",
   "execution_count": 30,
   "id": "5ab3c736",
   "metadata": {
    "tags": []
   },
   "outputs": [],
   "source": [
    "example_input = 21"
   ]
  },
  {
   "cell_type": "code",
   "execution_count": 31,
   "id": "3da7a0f7-879f-46dd-b17a-bd7ca92eb43e",
   "metadata": {
    "deletable": false,
    "nbgrader": {
     "cell_type": "code",
     "checksum": "f024c6f2dbbb8742896c4c7af2f0420d",
     "grade": true,
     "grade_id": "task_3",
     "locked": false,
     "points": 0,
     "schema_version": 3,
     "solution": true,
     "task": false
    },
    "tags": []
   },
   "outputs": [
    {
     "name": "stdout",
     "output_type": "stream",
     "text": [
      "I am 21 years old!\n"
     ]
    }
   ],
   "source": [
    "# YOUR CODE HERE\n",
    "print(\"I am\", example_input, \"years old!\")"
   ]
  },
  {
   "cell_type": "code",
   "execution_count": 32,
   "id": "a025f81d-0c8d-48ce-938a-852c76876790",
   "metadata": {
    "deletable": false,
    "editable": false,
    "nbgrader": {
     "cell_type": "code",
     "checksum": "90d290c2f0e8e8a2d4cecdc564da9306",
     "grade": false,
     "grade_id": "c3",
     "locked": true,
     "schema_version": 3,
     "solution": false,
     "task": false
    },
    "tags": []
   },
   "outputs": [
    {
     "name": "stdout",
     "output_type": "stream",
     "text": [
      "Test 1/2 passed.\n",
      "Test 2/2 passed.\n"
     ]
    }
   ],
   "source": [
    "# Save the notebook before executing this cell\n",
    "check('task_3')"
   ]
  },
  {
   "cell_type": "markdown",
   "id": "bca7b60a",
   "metadata": {},
   "source": [
    "## Task 4.\n",
    "\n",
    "Write a program that prints the number of full codons in a nucleotide sequence.\n",
    "\n",
    "Example input: AUGGCU\\\n",
    "Corresponding output: 2\n",
    "\n",
    "Example input: AUGUAACUGU\\\n",
    "Corresponding output: 3"
   ]
  },
  {
   "cell_type": "code",
   "execution_count": 8,
   "id": "3e198da3",
   "metadata": {
    "tags": []
   },
   "outputs": [],
   "source": [
    "example_input = 'AUGGCU'"
   ]
  },
  {
   "cell_type": "code",
   "execution_count": 9,
   "id": "eb066513-9755-42d7-9c30-eadda3c13c9f",
   "metadata": {
    "deletable": false,
    "nbgrader": {
     "cell_type": "code",
     "checksum": "eff7978c89126e9bf160c45c1ff76c5d",
     "grade": true,
     "grade_id": "task_4",
     "locked": false,
     "points": 0,
     "schema_version": 3,
     "solution": true,
     "task": false
    },
    "tags": []
   },
   "outputs": [
    {
     "name": "stdout",
     "output_type": "stream",
     "text": [
      "2\n"
     ]
    }
   ],
   "source": [
    "# YOUR CODE HERE\n",
    "print(len(example_input)//3)"
   ]
  },
  {
   "cell_type": "code",
   "execution_count": 10,
   "id": "35f2df3d-b468-46bf-b121-c65fc3ce1fa9",
   "metadata": {
    "deletable": false,
    "editable": false,
    "nbgrader": {
     "cell_type": "code",
     "checksum": "d2207efc765e9623948bd3f6c1ff300c",
     "grade": false,
     "grade_id": "c4",
     "locked": true,
     "schema_version": 3,
     "solution": false,
     "task": false
    },
    "tags": []
   },
   "outputs": [
    {
     "name": "stdout",
     "output_type": "stream",
     "text": [
      "Test 1/5 passed.\n",
      "Test 2/5 passed.\n",
      "Test 3/5 passed.\n",
      "Test 4/5 passed.\n",
      "Test 5/5 passed.\n"
     ]
    }
   ],
   "source": [
    "# Save the notebook before executing this cell\n",
    "check('task_4')"
   ]
  },
  {
   "cell_type": "markdown",
   "id": "d3f940be",
   "metadata": {},
   "source": [
    "## Task 5. \n",
    "\n",
    "Write a program that takes an integer number, adds 1 to it, and prints the output.\n",
    "\n",
    "Example input: 2\\\n",
    "Corresponding output: 3"
   ]
  },
  {
   "cell_type": "code",
   "execution_count": 33,
   "id": "ce668232",
   "metadata": {
    "tags": []
   },
   "outputs": [],
   "source": [
    "example_input = 2"
   ]
  },
  {
   "cell_type": "code",
   "execution_count": 34,
   "id": "cdc34eb6-0494-4f9f-9d25-69092a15bcee",
   "metadata": {
    "deletable": false,
    "nbgrader": {
     "cell_type": "code",
     "checksum": "3480efe10b2405f7cee1e3f19ae5406f",
     "grade": true,
     "grade_id": "task_5",
     "locked": false,
     "points": 0,
     "schema_version": 3,
     "solution": true,
     "task": false
    },
    "tags": []
   },
   "outputs": [
    {
     "name": "stdout",
     "output_type": "stream",
     "text": [
      "3\n"
     ]
    }
   ],
   "source": [
    "# YOUR CODE HERE\n",
    "print(example_input + 1)"
   ]
  },
  {
   "cell_type": "code",
   "execution_count": 35,
   "id": "645c38d9-57d5-4483-aace-f04a4d86877a",
   "metadata": {
    "deletable": false,
    "editable": false,
    "nbgrader": {
     "cell_type": "code",
     "checksum": "2fc2489e2e95ce4068453fb444e60fa2",
     "grade": false,
     "grade_id": "c5",
     "locked": true,
     "schema_version": 3,
     "solution": false,
     "task": false
    },
    "tags": []
   },
   "outputs": [
    {
     "name": "stdout",
     "output_type": "stream",
     "text": [
      "Test 1/4 passed.\n",
      "Test 2/4 passed.\n",
      "Test 3/4 passed.\n",
      "Test 4/4 passed.\n"
     ]
    }
   ],
   "source": [
    "# Save the notebook before executing this cell\n",
    "check('task_5')"
   ]
  },
  {
   "cell_type": "markdown",
   "id": "fb08892f",
   "metadata": {},
   "source": [
    "## Task 6. \n",
    "\n",
    "Write a program that takes the side of a square and calculates the area of the square.\n",
    "\n",
    "Example input: 1.5\\\n",
    "Corresponding output: 2.25\n",
    "\n",
    "Example input: 7.3\\\n",
    "Corresponding output: 53.29"
   ]
  },
  {
   "cell_type": "code",
   "execution_count": 11,
   "id": "93974f4c-d3f2-467a-804a-63b80eef279b",
   "metadata": {
    "tags": []
   },
   "outputs": [],
   "source": [
    "example_input = 1.2"
   ]
  },
  {
   "cell_type": "code",
   "execution_count": 12,
   "id": "b0bd530a",
   "metadata": {
    "deletable": false,
    "nbgrader": {
     "cell_type": "code",
     "checksum": "fc4596b8ca7d86173ab9c48d282ca9c0",
     "grade": true,
     "grade_id": "task_6",
     "locked": false,
     "points": 0,
     "schema_version": 3,
     "solution": true,
     "task": false
    },
    "tags": []
   },
   "outputs": [
    {
     "name": "stdout",
     "output_type": "stream",
     "text": [
      "1.44\n"
     ]
    }
   ],
   "source": [
    "# YOUR CODE HERE\n",
    "print(example_input**2)"
   ]
  },
  {
   "cell_type": "code",
   "execution_count": 13,
   "id": "205acfab-2d95-4d92-80ab-b1d10d1725d8",
   "metadata": {
    "deletable": false,
    "editable": false,
    "nbgrader": {
     "cell_type": "code",
     "checksum": "80db7af757413b08d66384ec9e5cda3a",
     "grade": false,
     "grade_id": "c6",
     "locked": true,
     "schema_version": 3,
     "solution": false,
     "task": false
    },
    "tags": []
   },
   "outputs": [
    {
     "name": "stdout",
     "output_type": "stream",
     "text": [
      "Test 1/2 passed.\n",
      "Test 2/2 passed.\n"
     ]
    }
   ],
   "source": [
    "# Save the notebook before executing this cell\n",
    "check('task_6')"
   ]
  },
  {
   "cell_type": "markdown",
   "id": "848bb388",
   "metadata": {},
   "source": [
    "## Task 7. \n",
    "\n",
    "Write a program that takes three words each having at least four letters and prints ‘True’ if the fourth letters of each word are identical and prints ‘False’ otherwise. \n",
    "\n",
    "Example input: Gopalasamudram Narayanan Ramachandran\\\n",
    "Corresponding output: True"
   ]
  },
  {
   "cell_type": "code",
   "execution_count": 14,
   "id": "195e8c54",
   "metadata": {
    "tags": []
   },
   "outputs": [],
   "source": [
    "example_input = 'Gopalasamudram Narayanan Ramachandran'"
   ]
  },
  {
   "cell_type": "code",
   "execution_count": 16,
   "id": "9092bf50",
   "metadata": {
    "deletable": false,
    "nbgrader": {
     "cell_type": "code",
     "checksum": "50f62932704c29c7862daaa3c955e10e",
     "grade": true,
     "grade_id": "task_7",
     "locked": false,
     "points": 0,
     "schema_version": 3,
     "solution": true,
     "task": false
    },
    "tags": []
   },
   "outputs": [
    {
     "name": "stdout",
     "output_type": "stream",
     "text": [
      "True\n"
     ]
    }
   ],
   "source": [
    "# YOUR CODE HERE\n",
    "a, b, c = example_input.split()\n",
    "if a[3] == b[3] == c[3]:\n",
    "    print(True)\n",
    "else:\n",
    "    print(False)"
   ]
  },
  {
   "cell_type": "code",
   "execution_count": 17,
   "id": "2d1bb19a-6216-45a2-af38-74a5c1caffe4",
   "metadata": {
    "deletable": false,
    "editable": false,
    "nbgrader": {
     "cell_type": "code",
     "checksum": "0ad1fd298e01fca81f4a64d9fdffe850",
     "grade": false,
     "grade_id": "c7",
     "locked": true,
     "schema_version": 3,
     "solution": false,
     "task": false
    },
    "tags": []
   },
   "outputs": [
    {
     "name": "stdout",
     "output_type": "stream",
     "text": [
      "Test 1/3 passed.\n",
      "Test 2/3 passed.\n",
      "Test 3/3 passed.\n"
     ]
    }
   ],
   "source": [
    "# Save the notebook before executing this cell\n",
    "check('task_7')"
   ]
  },
  {
   "cell_type": "markdown",
   "id": "95b37e8d",
   "metadata": {},
   "source": [
    "## Task 8. \n",
    "\n",
    "Write a program that takes a text fragment and prints the first and the last symbols of it. \n",
    "\n",
    "Example input: Roger wants coffee\\\n",
    "Corresponding output: Re"
   ]
  },
  {
   "cell_type": "code",
   "execution_count": 1,
   "id": "463f6cd8-2632-4bcc-895f-7f48a75dd80d",
   "metadata": {
    "tags": []
   },
   "outputs": [],
   "source": [
    "example_input = 'Roger wants coffee'\n"
   ]
  },
  {
   "cell_type": "code",
   "execution_count": 10,
   "id": "b3c1f9b5",
   "metadata": {
    "deletable": false,
    "nbgrader": {
     "cell_type": "code",
     "checksum": "973337d3a115a255cd727266a15efabc",
     "grade": true,
     "grade_id": "task_8",
     "locked": false,
     "points": 0,
     "schema_version": 3,
     "solution": true,
     "task": false
    },
    "tags": []
   },
   "outputs": [
    {
     "name": "stdout",
     "output_type": "stream",
     "text": [
      "Re\n"
     ]
    }
   ],
   "source": [
    "# YOUR CODE HERE\n",
    "print(example_input[0] + example_input[-1])\n"
   ]
  },
  {
   "cell_type": "code",
   "execution_count": 11,
   "id": "bba46307-b163-4a37-b7aa-1a0877adefa5",
   "metadata": {
    "deletable": false,
    "editable": false,
    "nbgrader": {
     "cell_type": "code",
     "checksum": "7ed0f42f4a92de96db1bd7f34e2075d3",
     "grade": false,
     "grade_id": "c8",
     "locked": true,
     "schema_version": 3,
     "solution": false,
     "task": false
    },
    "tags": []
   },
   "outputs": [
    {
     "name": "stdout",
     "output_type": "stream",
     "text": [
      "Test 1/4 passed.\n",
      "Test 2/4 passed.\n",
      "Test 3/4 passed.\n",
      "Test 4/4 passed.\n"
     ]
    }
   ],
   "source": [
    "# Save the notebook before executing this cell\n",
    "check('task_8')"
   ]
  },
  {
   "cell_type": "markdown",
   "id": "adaabd9c",
   "metadata": {},
   "source": [
    "## Task 9. \n",
    "\n",
    "Write a program that takes a positive number and prints its integer part.\n",
    "\n",
    "Example input: 125.42\\\n",
    "Corresponding output: 125"
   ]
  },
  {
   "cell_type": "code",
   "execution_count": 18,
   "id": "d3a34bc9",
   "metadata": {
    "tags": []
   },
   "outputs": [],
   "source": [
    "example_input = 125.42"
   ]
  },
  {
   "cell_type": "code",
   "execution_count": 19,
   "id": "95d7f3d0-0c08-479c-ab66-bc791dfedfe0",
   "metadata": {
    "deletable": false,
    "nbgrader": {
     "cell_type": "code",
     "checksum": "3654c4492fda9192179abd56a7d3bae5",
     "grade": true,
     "grade_id": "task_9",
     "locked": false,
     "points": 0,
     "schema_version": 3,
     "solution": true,
     "task": false
    },
    "tags": []
   },
   "outputs": [
    {
     "name": "stdout",
     "output_type": "stream",
     "text": [
      "125\n"
     ]
    }
   ],
   "source": [
    "# YOUR CODE HERE\n",
    "print(int(example_input))"
   ]
  },
  {
   "cell_type": "code",
   "execution_count": 20,
   "id": "914b79c7-a221-452a-ad2e-8e332b8255ca",
   "metadata": {
    "deletable": false,
    "editable": false,
    "nbgrader": {
     "cell_type": "code",
     "checksum": "0c428c1cde3f8f283cfe2c90ece4b82b",
     "grade": false,
     "grade_id": "c9",
     "locked": true,
     "schema_version": 3,
     "solution": false,
     "task": false
    },
    "tags": []
   },
   "outputs": [
    {
     "name": "stdout",
     "output_type": "stream",
     "text": [
      "Test 1/4 passed.\n",
      "Test 2/4 passed.\n",
      "Test 3/4 passed.\n",
      "Test 4/4 passed.\n"
     ]
    }
   ],
   "source": [
    "# Save the notebook before executing this cell\n",
    "check('task_9')"
   ]
  },
  {
   "cell_type": "markdown",
   "id": "1fe119b3",
   "metadata": {},
   "source": [
    "## Task 10. \n",
    "\n",
    "Write a program that takes a positive integer number and prints the number of digits in it. \n",
    "\n",
    "Example input: 624\\\n",
    "Corresponding output: 3"
   ]
  },
  {
   "cell_type": "code",
   "execution_count": 19,
   "id": "52ffae1c",
   "metadata": {
    "tags": []
   },
   "outputs": [],
   "source": [
    "example_input = 624"
   ]
  },
  {
   "cell_type": "code",
   "execution_count": 20,
   "id": "d04ea9a1-14e1-49f1-a23e-425c3b0d9692",
   "metadata": {
    "deletable": false,
    "nbgrader": {
     "cell_type": "code",
     "checksum": "43524a36a6db9a96c5472d3f38aa1d54",
     "grade": true,
     "grade_id": "task_10",
     "locked": false,
     "points": 0,
     "schema_version": 3,
     "solution": true,
     "task": false
    },
    "tags": []
   },
   "outputs": [
    {
     "name": "stdout",
     "output_type": "stream",
     "text": [
      "3\n"
     ]
    }
   ],
   "source": [
    "# YOUR CODE HERE\n",
    "print(len(str(example_input)))"
   ]
  },
  {
   "cell_type": "code",
   "execution_count": 21,
   "id": "1a510ecb-9dcd-4c43-83dc-6a066dafd9bc",
   "metadata": {
    "deletable": false,
    "editable": false,
    "nbgrader": {
     "cell_type": "code",
     "checksum": "4a97a9cb9164161f29ce1e2132093f05",
     "grade": false,
     "grade_id": "c10",
     "locked": true,
     "schema_version": 3,
     "solution": false,
     "task": false
    },
    "tags": []
   },
   "outputs": [
    {
     "name": "stdout",
     "output_type": "stream",
     "text": [
      "Test 1/2 passed.\n",
      "Test 2/2 passed.\n"
     ]
    }
   ],
   "source": [
    "# Save the notebook before executing this cell\n",
    "check('task_10')"
   ]
  },
  {
   "cell_type": "markdown",
   "id": "0f57bca5",
   "metadata": {},
   "source": [
    "## Task 11. \n",
    "\n",
    "Write a program that takes a number and prints the “True” value if the number is negative and “False” otherwise.\n",
    "\n",
    "Example input: -143.22\\\n",
    "Corresponding output: True\n",
    "\n",
    "Example input: 0.124151\\\n",
    "Corresponding output: False\n"
   ]
  },
  {
   "cell_type": "code",
   "execution_count": 44,
   "id": "64a8417c",
   "metadata": {
    "tags": []
   },
   "outputs": [],
   "source": [
    "example_input = -143.22"
   ]
  },
  {
   "cell_type": "code",
   "execution_count": 47,
   "id": "632d7ba9-1765-477e-8fc5-ec73af135993",
   "metadata": {
    "deletable": false,
    "nbgrader": {
     "cell_type": "code",
     "checksum": "08198b1604cde214325eee47048caadc",
     "grade": true,
     "grade_id": "task_11",
     "locked": false,
     "points": 0,
     "schema_version": 3,
     "solution": true,
     "task": false
    },
    "tags": []
   },
   "outputs": [
    {
     "name": "stdout",
     "output_type": "stream",
     "text": [
      "True\n"
     ]
    }
   ],
   "source": [
    "# YOUR CODE HERE\n",
    "if example_input < 0:\n",
    "    print(True)\n",
    "else:\n",
    "     print(False) "
   ]
  },
  {
   "cell_type": "code",
   "execution_count": 48,
   "id": "d4cbda38-a0f8-4da8-bcfc-29866537eab8",
   "metadata": {
    "deletable": false,
    "editable": false,
    "nbgrader": {
     "cell_type": "code",
     "checksum": "5ce9457fc6260c8e2812f878b5c54220",
     "grade": false,
     "grade_id": "c11",
     "locked": true,
     "schema_version": 3,
     "solution": false,
     "task": false
    },
    "tags": []
   },
   "outputs": [
    {
     "name": "stdout",
     "output_type": "stream",
     "text": [
      "Test 1/8 passed.\n",
      "Test 2/8 passed.\n",
      "Test 3/8 passed.\n",
      "Test 4/8 passed.\n",
      "Test 5/8 passed.\n",
      "Test 6/8 passed.\n",
      "Test 7/8 passed.\n",
      "Test 8/8 passed.\n"
     ]
    }
   ],
   "source": [
    "# Save the notebook before executing this cell\n",
    "check('task_11')"
   ]
  },
  {
   "cell_type": "markdown",
   "id": "130f153b",
   "metadata": {},
   "source": [
    "## Task 12. \n",
    "\n",
    "Write a program that takes the input and prints the number of symbols in it. \n",
    "\n",
    "Example input: python\\\n",
    "Corresponding output: 6\n",
    "\n",
    "Example input: 21.5\\\n",
    "Corresponding output: 4\n"
   ]
  },
  {
   "cell_type": "code",
   "execution_count": 53,
   "id": "a26df8c0",
   "metadata": {
    "tags": []
   },
   "outputs": [],
   "source": [
    "example_input = 'python'"
   ]
  },
  {
   "cell_type": "code",
   "execution_count": 58,
   "id": "7aa99957-8e46-4475-88d2-4e93dee6b910",
   "metadata": {
    "deletable": false,
    "nbgrader": {
     "cell_type": "code",
     "checksum": "c89082ef1c269aad5aa88a3ca1dc6b96",
     "grade": true,
     "grade_id": "task_12",
     "locked": false,
     "points": 0,
     "schema_version": 3,
     "solution": true,
     "task": false
    },
    "tags": []
   },
   "outputs": [
    {
     "name": "stdout",
     "output_type": "stream",
     "text": [
      "6\n"
     ]
    }
   ],
   "source": [
    "# YOUR CODE HERE\n",
    "print(len(str(example_input)))"
   ]
  },
  {
   "cell_type": "code",
   "execution_count": 59,
   "id": "cfadb174-775c-4341-8b52-fe0e53377538",
   "metadata": {
    "deletable": false,
    "editable": false,
    "nbgrader": {
     "cell_type": "code",
     "checksum": "c164460a214d76031dc7133251609506",
     "grade": false,
     "grade_id": "c12",
     "locked": true,
     "schema_version": 3,
     "solution": false,
     "task": false
    },
    "tags": []
   },
   "outputs": [
    {
     "name": "stdout",
     "output_type": "stream",
     "text": [
      "Test 1/4 passed.\n",
      "Test 2/4 passed.\n",
      "Test 3/4 passed.\n",
      "Test 4/4 passed.\n"
     ]
    }
   ],
   "source": [
    "# Save the notebook before executing this cell\n",
    "check('task_12')"
   ]
  },
  {
   "cell_type": "markdown",
   "id": "4eb4c563",
   "metadata": {},
   "source": [
    "## Task 13. \n",
    "\n",
    "Write a program that takes the input and prints the number of words in it. \n",
    "\n",
    "Example input: Python is a programming language.\\\n",
    "Corresponding output: 5\n"
   ]
  },
  {
   "cell_type": "code",
   "execution_count": 60,
   "id": "591662fe",
   "metadata": {
    "tags": []
   },
   "outputs": [],
   "source": [
    "example_input = 'Python is a programming language.'"
   ]
  },
  {
   "cell_type": "code",
   "execution_count": 61,
   "id": "a43891dd-159f-4804-9f3a-704c711e4360",
   "metadata": {
    "deletable": false,
    "nbgrader": {
     "cell_type": "code",
     "checksum": "9f10ed974f3a0e2060489a6310f7fbe5",
     "grade": true,
     "grade_id": "task_13",
     "locked": false,
     "points": 0,
     "schema_version": 3,
     "solution": true,
     "task": false
    },
    "tags": []
   },
   "outputs": [
    {
     "name": "stdout",
     "output_type": "stream",
     "text": [
      "5\n"
     ]
    }
   ],
   "source": [
    "# YOUR CODE HERE\n",
    "print(len(example_input.split()))"
   ]
  },
  {
   "cell_type": "code",
   "execution_count": 62,
   "id": "383aef09-2115-4b2f-b823-38336af7d96d",
   "metadata": {
    "deletable": false,
    "editable": false,
    "nbgrader": {
     "cell_type": "code",
     "checksum": "f153ad92b96fe4ec87422aa8b30765bd",
     "grade": false,
     "grade_id": "c13",
     "locked": true,
     "schema_version": 3,
     "solution": false,
     "task": false
    },
    "tags": []
   },
   "outputs": [
    {
     "name": "stdout",
     "output_type": "stream",
     "text": [
      "Test 1/2 passed.\n",
      "Test 2/2 passed.\n"
     ]
    }
   ],
   "source": [
    "# Save the notebook before executing this cell\n",
    "check('task_13')"
   ]
  },
  {
   "cell_type": "markdown",
   "id": "8938ff17",
   "metadata": {},
   "source": [
    "## Task 14. \n",
    "\n",
    "Write a program that takes the input and prints the first letter of the input in uppercase. \n",
    "\n",
    "Example input: python \\\n",
    "Example output: P"
   ]
  },
  {
   "cell_type": "code",
   "execution_count": 63,
   "id": "0f3780cb",
   "metadata": {
    "tags": []
   },
   "outputs": [],
   "source": [
    "example_input = 'python'"
   ]
  },
  {
   "cell_type": "code",
   "execution_count": 64,
   "id": "3c9be866-143f-4d55-9b1c-67da09b962f8",
   "metadata": {
    "deletable": false,
    "nbgrader": {
     "cell_type": "code",
     "checksum": "4ef878809003f5fa88f58ba1c1da3e65",
     "grade": true,
     "grade_id": "task_14",
     "locked": false,
     "points": 0,
     "schema_version": 3,
     "solution": true,
     "task": false
    },
    "tags": []
   },
   "outputs": [
    {
     "name": "stdout",
     "output_type": "stream",
     "text": [
      "P\n"
     ]
    }
   ],
   "source": [
    "# YOUR CODE HERE\n",
    "print(example_input[0].upper())"
   ]
  },
  {
   "cell_type": "code",
   "execution_count": 65,
   "id": "01ab1e59-d469-486a-9d92-9e04a1b4369d",
   "metadata": {
    "deletable": false,
    "editable": false,
    "nbgrader": {
     "cell_type": "code",
     "checksum": "d7651f73a1529dacff3661dd6059ef53",
     "grade": false,
     "grade_id": "c14",
     "locked": true,
     "schema_version": 3,
     "solution": false,
     "task": false
    },
    "tags": []
   },
   "outputs": [
    {
     "name": "stdout",
     "output_type": "stream",
     "text": [
      "Test 1/2 passed.\n",
      "Test 2/2 passed.\n"
     ]
    }
   ],
   "source": [
    "# Save the notebook before executing this cell\n",
    "check('task_14')"
   ]
  },
  {
   "cell_type": "markdown",
   "id": "6a3f90a7",
   "metadata": {
    "tags": []
   },
   "source": [
    "## Task 15. \n",
    "\n",
    "Write a program that reads two numbers from the input string and prints their product as a float number.\n",
    "\n",
    "Example input: 20 3 \\\n",
    "Example output: 60.0"
   ]
  },
  {
   "cell_type": "code",
   "execution_count": 21,
   "id": "0ec465d0-f5d9-4849-be9b-12ddc921ec50",
   "metadata": {
    "tags": []
   },
   "outputs": [],
   "source": [
    "example_input = '20 3'"
   ]
  },
  {
   "cell_type": "code",
   "execution_count": 22,
   "id": "c322e8c5",
   "metadata": {
    "deletable": false,
    "nbgrader": {
     "cell_type": "code",
     "checksum": "c5e4381c18e323b309ddb0de399e940c",
     "grade": true,
     "grade_id": "task_15",
     "locked": false,
     "points": 0,
     "schema_version": 3,
     "solution": true,
     "task": false
    },
    "tags": []
   },
   "outputs": [
    {
     "name": "stdout",
     "output_type": "stream",
     "text": [
      "60.0\n"
     ]
    }
   ],
   "source": [
    "# YOUR CODE HERE   \n",
    "x, y = example_input.split()\n",
    "print(float((int(x)*int(y))))"
   ]
  },
  {
   "cell_type": "code",
   "execution_count": 23,
   "id": "6185a10d-2b92-4c9c-a176-414330a82645",
   "metadata": {
    "deletable": false,
    "editable": false,
    "nbgrader": {
     "cell_type": "code",
     "checksum": "191784c643c59f8e962428ef080878c9",
     "grade": false,
     "grade_id": "c15",
     "locked": true,
     "schema_version": 3,
     "solution": false,
     "task": false
    },
    "tags": []
   },
   "outputs": [
    {
     "name": "stdout",
     "output_type": "stream",
     "text": [
      "Test 1/2 passed.\n",
      "Test 2/2 passed.\n"
     ]
    }
   ],
   "source": [
    "# Save the notebook before executing this cell\n",
    "check('task_15')"
   ]
  },
  {
   "cell_type": "code",
   "execution_count": null,
   "id": "61565d7c-1cfe-43b6-95ce-1ff33b5d9ed4",
   "metadata": {},
   "outputs": [],
   "source": []
  }
 ],
 "metadata": {
  "kernelspec": {
   "display_name": "Python 3 (ipykernel)",
   "language": "python",
   "name": "python3"
  },
  "language_info": {
   "codemirror_mode": {
    "name": "ipython",
    "version": 3
   },
   "file_extension": ".py",
   "mimetype": "text/x-python",
   "name": "python",
   "nbconvert_exporter": "python",
   "pygments_lexer": "ipython3",
   "version": "3.10.10"
  }
 },
 "nbformat": 4,
 "nbformat_minor": 5
}
